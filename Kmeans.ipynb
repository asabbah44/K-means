{
  "nbformat": 4,
  "nbformat_minor": 0,
  "metadata": {
    "colab": {
      "provenance": [],
      "mount_file_id": "1AH_IrxRwSPYQSw3peRG1U5xA3M1pSqJB",
      "authorship_tag": "ABX9TyO8+uq2wNoioYhtqW7/1wb2",
      "include_colab_link": true
    },
    "kernelspec": {
      "name": "python3",
      "display_name": "Python 3"
    },
    "language_info": {
      "name": "python"
    }
  },
  "cells": [
    {
      "cell_type": "markdown",
      "metadata": {
        "id": "view-in-github",
        "colab_type": "text"
      },
      "source": [
        "<a href=\"https://colab.research.google.com/github/asabbah44/K-means/blob/main/Kmeans.ipynb\" target=\"_parent\"><img src=\"https://colab.research.google.com/assets/colab-badge.svg\" alt=\"Open In Colab\"/></a>"
      ]
    },
    {
      "cell_type": "markdown",
      "source": [
        "**The Steps for bulid K-means Clustering Algorithm**\n",
        "\n",
        "1. Read the dataset \n",
        "2. Check if the dataset columns are more than 2 without a label column, then apply PCA for dimensionality reduction.\n",
        "3. normalizes the data.\n",
        "4. Determine the number K of clusters by invoking cost function\n",
        "5. Initialize the cluster center k-means algorithm by randomly selecting C data points.\n",
        "6. Find the Euclidean distances between each data point and the C cluster centers.\n",
        "7. Based on the distance each data point is assigned to a cluster center (i.e., a label is assigned to the point).\n",
        "8. Given a new value for cluster center location (C) calculate the average of the points in the \n",
        "cluster group\n",
        "9. Repeat steps 4–6 until the cluster center datapoint stops changing (i.e., the difference between the cluster center and the new center zero), and get the best cluster center estimate.\n",
        "10. A cost function is defined to get the best number of clusters.\n",
        "\n",
        "\n",
        "Ahmed Sabbah, Birzeit University.\n",
        "\n",
        "\n",
        "\n"
      ],
      "metadata": {
        "id": "0_4teQWuuYSe"
      }
    },
    {
      "cell_type": "code",
      "execution_count": null,
      "metadata": {
        "id": "QlBPsADrZk6h"
      },
      "outputs": [],
      "source": [
        "import numpy as np\n",
        "import pandas as pd\n",
        "import matplotlib.pyplot as plt"
      ]
    },
    {
      "cell_type": "markdown",
      "source": [
        "**1) Read the datasets.**\n",
        "\n",
        "To run a specific dataset, change the ActiveDataset variable to the number of datasets.\n",
        "\n",
        "* iris------------------------------> **1** \n",
        "* 3gaussians-std0.6 ----> **2**\n",
        "* 3gaussians-std0.9 ----> **3**\n",
        "* circles -----------------------> **4**\n",
        "* Moons -----------------------> **5**\n",
        "\n"
      ],
      "metadata": {
        "id": "PTDpvxDfazvm"
      }
    },
    {
      "cell_type": "code",
      "source": [
        "ActiveDataset=1"
      ],
      "metadata": {
        "id": "7NEnq8u9Py-8"
      },
      "execution_count": null,
      "outputs": []
    },
    {
      "cell_type": "code",
      "source": [
        "\n",
        "def ReadDataset(Adataset):\n",
        "  if Adataset==1:\n",
        "   print(\"iris dataset is active\")\n",
        "   DsPath =\"/content/drive/MyDrive/Colab Notebooks/Machine Learning/K-Means/Datasets/iris.csv\"\n",
        "   Dataset=pd.read_csv(DsPath, names=['f1','f2','f3','f4','label'])\n",
        "   return Dataset\n",
        "  elif Adataset==2:\n",
        "    print(\"3gaussians dataset with std 0.6 is active\")\n",
        "    DsPath =\"/content/drive/MyDrive/Colab Notebooks/Machine Learning/K-Means/Datasets/3gaussians-std0.6.csv\"\n",
        "\n",
        "  elif Adataset==3:\n",
        "    print(\"3gaussians dataset with std 0.9 is active\")\n",
        "    DsPath =\"/content/drive/MyDrive/Colab Notebooks/Machine Learning/K-Means/Datasets/3gaussians-std0.9.csv\"\n",
        "\n",
        "  elif Adataset==4:\n",
        "    print(\"Circles dataset is active\" )\n",
        "    DsPath =\"/content/drive/MyDrive/Colab Notebooks/Machine Learning/K-Means/Datasets/circles.csv\"\n",
        "\n",
        "  elif Adataset==5:\n",
        "    print(\"Moon dataset is active\")\n",
        "    DsPath = \"/content/drive/MyDrive/Colab Notebooks/Machine Learning/K-Means/Datasets/moons.csv\"\n",
        "\n",
        "  Dataset=pd.read_csv(DsPath, names=['f1','f2','label'])\n",
        "  return Dataset\n"
      ],
      "metadata": {
        "id": "2vA5XA7WauLZ"
      },
      "execution_count": null,
      "outputs": []
    },
    {
      "cell_type": "code",
      "source": [
        "Dataset=ReadDataset(ActiveDataset)\n",
        "Dataset.head(5)"
      ],
      "metadata": {
        "colab": {
          "base_uri": "https://localhost:8080/",
          "height": 223
        },
        "id": "CnPVbp8ofvgj",
        "outputId": "fdb1efd4-f54e-4f7f-af0d-93e6520d8791"
      },
      "execution_count": null,
      "outputs": [
        {
          "output_type": "stream",
          "name": "stdout",
          "text": [
            "iris dataset is active\n"
          ]
        },
        {
          "output_type": "execute_result",
          "data": {
            "text/plain": [
              "    f1   f2   f3   f4        label\n",
              "0  5.1  3.5  1.4  0.2  Iris-setosa\n",
              "1  4.9  3.0  1.4  0.2  Iris-setosa\n",
              "2  4.7  3.2  1.3  0.2  Iris-setosa\n",
              "3  4.6  3.1  1.5  0.2  Iris-setosa\n",
              "4  5.0  3.6  1.4  0.2  Iris-setosa"
            ],
            "text/html": [
              "\n",
              "  <div id=\"df-e1017914-7116-4d3b-932f-71b2816194fa\">\n",
              "    <div class=\"colab-df-container\">\n",
              "      <div>\n",
              "<style scoped>\n",
              "    .dataframe tbody tr th:only-of-type {\n",
              "        vertical-align: middle;\n",
              "    }\n",
              "\n",
              "    .dataframe tbody tr th {\n",
              "        vertical-align: top;\n",
              "    }\n",
              "\n",
              "    .dataframe thead th {\n",
              "        text-align: right;\n",
              "    }\n",
              "</style>\n",
              "<table border=\"1\" class=\"dataframe\">\n",
              "  <thead>\n",
              "    <tr style=\"text-align: right;\">\n",
              "      <th></th>\n",
              "      <th>f1</th>\n",
              "      <th>f2</th>\n",
              "      <th>f3</th>\n",
              "      <th>f4</th>\n",
              "      <th>label</th>\n",
              "    </tr>\n",
              "  </thead>\n",
              "  <tbody>\n",
              "    <tr>\n",
              "      <th>0</th>\n",
              "      <td>5.1</td>\n",
              "      <td>3.5</td>\n",
              "      <td>1.4</td>\n",
              "      <td>0.2</td>\n",
              "      <td>Iris-setosa</td>\n",
              "    </tr>\n",
              "    <tr>\n",
              "      <th>1</th>\n",
              "      <td>4.9</td>\n",
              "      <td>3.0</td>\n",
              "      <td>1.4</td>\n",
              "      <td>0.2</td>\n",
              "      <td>Iris-setosa</td>\n",
              "    </tr>\n",
              "    <tr>\n",
              "      <th>2</th>\n",
              "      <td>4.7</td>\n",
              "      <td>3.2</td>\n",
              "      <td>1.3</td>\n",
              "      <td>0.2</td>\n",
              "      <td>Iris-setosa</td>\n",
              "    </tr>\n",
              "    <tr>\n",
              "      <th>3</th>\n",
              "      <td>4.6</td>\n",
              "      <td>3.1</td>\n",
              "      <td>1.5</td>\n",
              "      <td>0.2</td>\n",
              "      <td>Iris-setosa</td>\n",
              "    </tr>\n",
              "    <tr>\n",
              "      <th>4</th>\n",
              "      <td>5.0</td>\n",
              "      <td>3.6</td>\n",
              "      <td>1.4</td>\n",
              "      <td>0.2</td>\n",
              "      <td>Iris-setosa</td>\n",
              "    </tr>\n",
              "  </tbody>\n",
              "</table>\n",
              "</div>\n",
              "      <button class=\"colab-df-convert\" onclick=\"convertToInteractive('df-e1017914-7116-4d3b-932f-71b2816194fa')\"\n",
              "              title=\"Convert this dataframe to an interactive table.\"\n",
              "              style=\"display:none;\">\n",
              "        \n",
              "  <svg xmlns=\"http://www.w3.org/2000/svg\" height=\"24px\"viewBox=\"0 0 24 24\"\n",
              "       width=\"24px\">\n",
              "    <path d=\"M0 0h24v24H0V0z\" fill=\"none\"/>\n",
              "    <path d=\"M18.56 5.44l.94 2.06.94-2.06 2.06-.94-2.06-.94-.94-2.06-.94 2.06-2.06.94zm-11 1L8.5 8.5l.94-2.06 2.06-.94-2.06-.94L8.5 2.5l-.94 2.06-2.06.94zm10 10l.94 2.06.94-2.06 2.06-.94-2.06-.94-.94-2.06-.94 2.06-2.06.94z\"/><path d=\"M17.41 7.96l-1.37-1.37c-.4-.4-.92-.59-1.43-.59-.52 0-1.04.2-1.43.59L10.3 9.45l-7.72 7.72c-.78.78-.78 2.05 0 2.83L4 21.41c.39.39.9.59 1.41.59.51 0 1.02-.2 1.41-.59l7.78-7.78 2.81-2.81c.8-.78.8-2.07 0-2.86zM5.41 20L4 18.59l7.72-7.72 1.47 1.35L5.41 20z\"/>\n",
              "  </svg>\n",
              "      </button>\n",
              "      \n",
              "  <style>\n",
              "    .colab-df-container {\n",
              "      display:flex;\n",
              "      flex-wrap:wrap;\n",
              "      gap: 12px;\n",
              "    }\n",
              "\n",
              "    .colab-df-convert {\n",
              "      background-color: #E8F0FE;\n",
              "      border: none;\n",
              "      border-radius: 50%;\n",
              "      cursor: pointer;\n",
              "      display: none;\n",
              "      fill: #1967D2;\n",
              "      height: 32px;\n",
              "      padding: 0 0 0 0;\n",
              "      width: 32px;\n",
              "    }\n",
              "\n",
              "    .colab-df-convert:hover {\n",
              "      background-color: #E2EBFA;\n",
              "      box-shadow: 0px 1px 2px rgba(60, 64, 67, 0.3), 0px 1px 3px 1px rgba(60, 64, 67, 0.15);\n",
              "      fill: #174EA6;\n",
              "    }\n",
              "\n",
              "    [theme=dark] .colab-df-convert {\n",
              "      background-color: #3B4455;\n",
              "      fill: #D2E3FC;\n",
              "    }\n",
              "\n",
              "    [theme=dark] .colab-df-convert:hover {\n",
              "      background-color: #434B5C;\n",
              "      box-shadow: 0px 1px 3px 1px rgba(0, 0, 0, 0.15);\n",
              "      filter: drop-shadow(0px 1px 2px rgba(0, 0, 0, 0.3));\n",
              "      fill: #FFFFFF;\n",
              "    }\n",
              "  </style>\n",
              "\n",
              "      <script>\n",
              "        const buttonEl =\n",
              "          document.querySelector('#df-e1017914-7116-4d3b-932f-71b2816194fa button.colab-df-convert');\n",
              "        buttonEl.style.display =\n",
              "          google.colab.kernel.accessAllowed ? 'block' : 'none';\n",
              "\n",
              "        async function convertToInteractive(key) {\n",
              "          const element = document.querySelector('#df-e1017914-7116-4d3b-932f-71b2816194fa');\n",
              "          const dataTable =\n",
              "            await google.colab.kernel.invokeFunction('convertToInteractive',\n",
              "                                                     [key], {});\n",
              "          if (!dataTable) return;\n",
              "\n",
              "          const docLinkHtml = 'Like what you see? Visit the ' +\n",
              "            '<a target=\"_blank\" href=https://colab.research.google.com/notebooks/data_table.ipynb>data table notebook</a>'\n",
              "            + ' to learn more about interactive tables.';\n",
              "          element.innerHTML = '';\n",
              "          dataTable['output_type'] = 'display_data';\n",
              "          await google.colab.output.renderOutput(dataTable, element);\n",
              "          const docLink = document.createElement('div');\n",
              "          docLink.innerHTML = docLinkHtml;\n",
              "          element.appendChild(docLink);\n",
              "        }\n",
              "      </script>\n",
              "    </div>\n",
              "  </div>\n",
              "  "
            ]
          },
          "metadata": {},
          "execution_count": 2505
        }
      ]
    },
    {
      "cell_type": "markdown",
      "source": [
        "Remove labels it should be last column"
      ],
      "metadata": {
        "id": "O7l7EPgk05-v"
      }
    },
    {
      "cell_type": "code",
      "source": [
        "OrginalDataset=Dataset.copy()\n",
        "labels=OrginalDataset.iloc[:,-1]\n",
        "Dataset=Dataset.iloc[: , :-1]"
      ],
      "metadata": {
        "id": "LDdIZT7X1AAm"
      },
      "execution_count": null,
      "outputs": []
    },
    {
      "cell_type": "markdown",
      "source": [
        "Covert to 2D if the dataset have more than two featuers "
      ],
      "metadata": {
        "id": "o1dRhT9CWDzM"
      }
    },
    {
      "cell_type": "code",
      "source": [
        "from sklearn.decomposition import PCA\n",
        "if(Dataset.shape[1]>2):\n",
        " pca=PCA(n_components=2)\n",
        " Dataset=pca.fit_transform(Dataset)\n",
        " Dataset=pd.DataFrame(Dataset)"
      ],
      "metadata": {
        "id": "D9XeHPUIWCqp"
      },
      "execution_count": null,
      "outputs": []
    },
    {
      "cell_type": "code",
      "source": [
        "print(\"Dataset shape--------------------------\")\n",
        "print(Dataset.shape)\n",
        "print(\"New Dataset--------------------------\")\n",
        "Dataset.head(3)\n"
      ],
      "metadata": {
        "colab": {
          "base_uri": "https://localhost:8080/",
          "height": 195
        },
        "id": "y8vgRDPQ1igF",
        "outputId": "fdd1cbb7-9754-47da-d137-3614e14a4080"
      },
      "execution_count": null,
      "outputs": [
        {
          "output_type": "stream",
          "name": "stdout",
          "text": [
            "Dataset shape--------------------------\n",
            "(150, 2)\n",
            "New Dataset--------------------------\n"
          ]
        },
        {
          "output_type": "execute_result",
          "data": {
            "text/plain": [
              "          0         1\n",
              "0 -2.684207  0.326607\n",
              "1 -2.715391 -0.169557\n",
              "2 -2.889820 -0.137346"
            ],
            "text/html": [
              "\n",
              "  <div id=\"df-216533b9-4d3a-4a63-8c47-4f8e1d3b7738\">\n",
              "    <div class=\"colab-df-container\">\n",
              "      <div>\n",
              "<style scoped>\n",
              "    .dataframe tbody tr th:only-of-type {\n",
              "        vertical-align: middle;\n",
              "    }\n",
              "\n",
              "    .dataframe tbody tr th {\n",
              "        vertical-align: top;\n",
              "    }\n",
              "\n",
              "    .dataframe thead th {\n",
              "        text-align: right;\n",
              "    }\n",
              "</style>\n",
              "<table border=\"1\" class=\"dataframe\">\n",
              "  <thead>\n",
              "    <tr style=\"text-align: right;\">\n",
              "      <th></th>\n",
              "      <th>0</th>\n",
              "      <th>1</th>\n",
              "    </tr>\n",
              "  </thead>\n",
              "  <tbody>\n",
              "    <tr>\n",
              "      <th>0</th>\n",
              "      <td>-2.684207</td>\n",
              "      <td>0.326607</td>\n",
              "    </tr>\n",
              "    <tr>\n",
              "      <th>1</th>\n",
              "      <td>-2.715391</td>\n",
              "      <td>-0.169557</td>\n",
              "    </tr>\n",
              "    <tr>\n",
              "      <th>2</th>\n",
              "      <td>-2.889820</td>\n",
              "      <td>-0.137346</td>\n",
              "    </tr>\n",
              "  </tbody>\n",
              "</table>\n",
              "</div>\n",
              "      <button class=\"colab-df-convert\" onclick=\"convertToInteractive('df-216533b9-4d3a-4a63-8c47-4f8e1d3b7738')\"\n",
              "              title=\"Convert this dataframe to an interactive table.\"\n",
              "              style=\"display:none;\">\n",
              "        \n",
              "  <svg xmlns=\"http://www.w3.org/2000/svg\" height=\"24px\"viewBox=\"0 0 24 24\"\n",
              "       width=\"24px\">\n",
              "    <path d=\"M0 0h24v24H0V0z\" fill=\"none\"/>\n",
              "    <path d=\"M18.56 5.44l.94 2.06.94-2.06 2.06-.94-2.06-.94-.94-2.06-.94 2.06-2.06.94zm-11 1L8.5 8.5l.94-2.06 2.06-.94-2.06-.94L8.5 2.5l-.94 2.06-2.06.94zm10 10l.94 2.06.94-2.06 2.06-.94-2.06-.94-.94-2.06-.94 2.06-2.06.94z\"/><path d=\"M17.41 7.96l-1.37-1.37c-.4-.4-.92-.59-1.43-.59-.52 0-1.04.2-1.43.59L10.3 9.45l-7.72 7.72c-.78.78-.78 2.05 0 2.83L4 21.41c.39.39.9.59 1.41.59.51 0 1.02-.2 1.41-.59l7.78-7.78 2.81-2.81c.8-.78.8-2.07 0-2.86zM5.41 20L4 18.59l7.72-7.72 1.47 1.35L5.41 20z\"/>\n",
              "  </svg>\n",
              "      </button>\n",
              "      \n",
              "  <style>\n",
              "    .colab-df-container {\n",
              "      display:flex;\n",
              "      flex-wrap:wrap;\n",
              "      gap: 12px;\n",
              "    }\n",
              "\n",
              "    .colab-df-convert {\n",
              "      background-color: #E8F0FE;\n",
              "      border: none;\n",
              "      border-radius: 50%;\n",
              "      cursor: pointer;\n",
              "      display: none;\n",
              "      fill: #1967D2;\n",
              "      height: 32px;\n",
              "      padding: 0 0 0 0;\n",
              "      width: 32px;\n",
              "    }\n",
              "\n",
              "    .colab-df-convert:hover {\n",
              "      background-color: #E2EBFA;\n",
              "      box-shadow: 0px 1px 2px rgba(60, 64, 67, 0.3), 0px 1px 3px 1px rgba(60, 64, 67, 0.15);\n",
              "      fill: #174EA6;\n",
              "    }\n",
              "\n",
              "    [theme=dark] .colab-df-convert {\n",
              "      background-color: #3B4455;\n",
              "      fill: #D2E3FC;\n",
              "    }\n",
              "\n",
              "    [theme=dark] .colab-df-convert:hover {\n",
              "      background-color: #434B5C;\n",
              "      box-shadow: 0px 1px 3px 1px rgba(0, 0, 0, 0.15);\n",
              "      filter: drop-shadow(0px 1px 2px rgba(0, 0, 0, 0.3));\n",
              "      fill: #FFFFFF;\n",
              "    }\n",
              "  </style>\n",
              "\n",
              "      <script>\n",
              "        const buttonEl =\n",
              "          document.querySelector('#df-216533b9-4d3a-4a63-8c47-4f8e1d3b7738 button.colab-df-convert');\n",
              "        buttonEl.style.display =\n",
              "          google.colab.kernel.accessAllowed ? 'block' : 'none';\n",
              "\n",
              "        async function convertToInteractive(key) {\n",
              "          const element = document.querySelector('#df-216533b9-4d3a-4a63-8c47-4f8e1d3b7738');\n",
              "          const dataTable =\n",
              "            await google.colab.kernel.invokeFunction('convertToInteractive',\n",
              "                                                     [key], {});\n",
              "          if (!dataTable) return;\n",
              "\n",
              "          const docLinkHtml = 'Like what you see? Visit the ' +\n",
              "            '<a target=\"_blank\" href=https://colab.research.google.com/notebooks/data_table.ipynb>data table notebook</a>'\n",
              "            + ' to learn more about interactive tables.';\n",
              "          element.innerHTML = '';\n",
              "          dataTable['output_type'] = 'display_data';\n",
              "          await google.colab.output.renderOutput(dataTable, element);\n",
              "          const docLink = document.createElement('div');\n",
              "          docLink.innerHTML = docLinkHtml;\n",
              "          element.appendChild(docLink);\n",
              "        }\n",
              "      </script>\n",
              "    </div>\n",
              "  </div>\n",
              "  "
            ]
          },
          "metadata": {},
          "execution_count": 2508
        }
      ]
    },
    {
      "cell_type": "markdown",
      "source": [
        "Normalization the Dataset **Optional**\n",
        "\n",
        "To normalizetion data change **Normalize to True**"
      ],
      "metadata": {
        "id": "jp9EGtTrxLeL"
      }
    },
    {
      "cell_type": "code",
      "source": [
        "Normalize=True\n",
        "if(Normalize):\n",
        " Dataset=(Dataset-Dataset.min())/(Dataset.max()-Dataset.min())"
      ],
      "metadata": {
        "id": "6wY0fJTvxK7x"
      },
      "execution_count": null,
      "outputs": []
    },
    {
      "cell_type": "code",
      "source": [
        "Dataset.head(4)"
      ],
      "metadata": {
        "colab": {
          "base_uri": "https://localhost:8080/",
          "height": 175
        },
        "id": "x_V7nXWmzo9k",
        "outputId": "00b20a85-a5ba-41ae-ef9e-cbf1e8b25f8b"
      },
      "execution_count": null,
      "outputs": [
        {
          "output_type": "execute_result",
          "data": {
            "text/plain": [
              "          0         1\n",
              "0  0.077066  0.603528\n",
              "1  0.072624  0.415089\n",
              "2  0.047776  0.427322\n",
              "3  0.068201  0.361322"
            ],
            "text/html": [
              "\n",
              "  <div id=\"df-eee77ce0-8357-4ff3-96f2-d103dc588c05\">\n",
              "    <div class=\"colab-df-container\">\n",
              "      <div>\n",
              "<style scoped>\n",
              "    .dataframe tbody tr th:only-of-type {\n",
              "        vertical-align: middle;\n",
              "    }\n",
              "\n",
              "    .dataframe tbody tr th {\n",
              "        vertical-align: top;\n",
              "    }\n",
              "\n",
              "    .dataframe thead th {\n",
              "        text-align: right;\n",
              "    }\n",
              "</style>\n",
              "<table border=\"1\" class=\"dataframe\">\n",
              "  <thead>\n",
              "    <tr style=\"text-align: right;\">\n",
              "      <th></th>\n",
              "      <th>0</th>\n",
              "      <th>1</th>\n",
              "    </tr>\n",
              "  </thead>\n",
              "  <tbody>\n",
              "    <tr>\n",
              "      <th>0</th>\n",
              "      <td>0.077066</td>\n",
              "      <td>0.603528</td>\n",
              "    </tr>\n",
              "    <tr>\n",
              "      <th>1</th>\n",
              "      <td>0.072624</td>\n",
              "      <td>0.415089</td>\n",
              "    </tr>\n",
              "    <tr>\n",
              "      <th>2</th>\n",
              "      <td>0.047776</td>\n",
              "      <td>0.427322</td>\n",
              "    </tr>\n",
              "    <tr>\n",
              "      <th>3</th>\n",
              "      <td>0.068201</td>\n",
              "      <td>0.361322</td>\n",
              "    </tr>\n",
              "  </tbody>\n",
              "</table>\n",
              "</div>\n",
              "      <button class=\"colab-df-convert\" onclick=\"convertToInteractive('df-eee77ce0-8357-4ff3-96f2-d103dc588c05')\"\n",
              "              title=\"Convert this dataframe to an interactive table.\"\n",
              "              style=\"display:none;\">\n",
              "        \n",
              "  <svg xmlns=\"http://www.w3.org/2000/svg\" height=\"24px\"viewBox=\"0 0 24 24\"\n",
              "       width=\"24px\">\n",
              "    <path d=\"M0 0h24v24H0V0z\" fill=\"none\"/>\n",
              "    <path d=\"M18.56 5.44l.94 2.06.94-2.06 2.06-.94-2.06-.94-.94-2.06-.94 2.06-2.06.94zm-11 1L8.5 8.5l.94-2.06 2.06-.94-2.06-.94L8.5 2.5l-.94 2.06-2.06.94zm10 10l.94 2.06.94-2.06 2.06-.94-2.06-.94-.94-2.06-.94 2.06-2.06.94z\"/><path d=\"M17.41 7.96l-1.37-1.37c-.4-.4-.92-.59-1.43-.59-.52 0-1.04.2-1.43.59L10.3 9.45l-7.72 7.72c-.78.78-.78 2.05 0 2.83L4 21.41c.39.39.9.59 1.41.59.51 0 1.02-.2 1.41-.59l7.78-7.78 2.81-2.81c.8-.78.8-2.07 0-2.86zM5.41 20L4 18.59l7.72-7.72 1.47 1.35L5.41 20z\"/>\n",
              "  </svg>\n",
              "      </button>\n",
              "      \n",
              "  <style>\n",
              "    .colab-df-container {\n",
              "      display:flex;\n",
              "      flex-wrap:wrap;\n",
              "      gap: 12px;\n",
              "    }\n",
              "\n",
              "    .colab-df-convert {\n",
              "      background-color: #E8F0FE;\n",
              "      border: none;\n",
              "      border-radius: 50%;\n",
              "      cursor: pointer;\n",
              "      display: none;\n",
              "      fill: #1967D2;\n",
              "      height: 32px;\n",
              "      padding: 0 0 0 0;\n",
              "      width: 32px;\n",
              "    }\n",
              "\n",
              "    .colab-df-convert:hover {\n",
              "      background-color: #E2EBFA;\n",
              "      box-shadow: 0px 1px 2px rgba(60, 64, 67, 0.3), 0px 1px 3px 1px rgba(60, 64, 67, 0.15);\n",
              "      fill: #174EA6;\n",
              "    }\n",
              "\n",
              "    [theme=dark] .colab-df-convert {\n",
              "      background-color: #3B4455;\n",
              "      fill: #D2E3FC;\n",
              "    }\n",
              "\n",
              "    [theme=dark] .colab-df-convert:hover {\n",
              "      background-color: #434B5C;\n",
              "      box-shadow: 0px 1px 3px 1px rgba(0, 0, 0, 0.15);\n",
              "      filter: drop-shadow(0px 1px 2px rgba(0, 0, 0, 0.3));\n",
              "      fill: #FFFFFF;\n",
              "    }\n",
              "  </style>\n",
              "\n",
              "      <script>\n",
              "        const buttonEl =\n",
              "          document.querySelector('#df-eee77ce0-8357-4ff3-96f2-d103dc588c05 button.colab-df-convert');\n",
              "        buttonEl.style.display =\n",
              "          google.colab.kernel.accessAllowed ? 'block' : 'none';\n",
              "\n",
              "        async function convertToInteractive(key) {\n",
              "          const element = document.querySelector('#df-eee77ce0-8357-4ff3-96f2-d103dc588c05');\n",
              "          const dataTable =\n",
              "            await google.colab.kernel.invokeFunction('convertToInteractive',\n",
              "                                                     [key], {});\n",
              "          if (!dataTable) return;\n",
              "\n",
              "          const docLinkHtml = 'Like what you see? Visit the ' +\n",
              "            '<a target=\"_blank\" href=https://colab.research.google.com/notebooks/data_table.ipynb>data table notebook</a>'\n",
              "            + ' to learn more about interactive tables.';\n",
              "          element.innerHTML = '';\n",
              "          dataTable['output_type'] = 'display_data';\n",
              "          await google.colab.output.renderOutput(dataTable, element);\n",
              "          const docLink = document.createElement('div');\n",
              "          docLink.innerHTML = docLinkHtml;\n",
              "          element.appendChild(docLink);\n",
              "        }\n",
              "      </script>\n",
              "    </div>\n",
              "  </div>\n",
              "  "
            ]
          },
          "metadata": {},
          "execution_count": 2510
        }
      ]
    },
    {
      "cell_type": "code",
      "source": [
        "Dataset.describe()"
      ],
      "metadata": {
        "colab": {
          "base_uri": "https://localhost:8080/",
          "height": 300
        },
        "id": "Tfx0URV9o8rs",
        "outputId": "3f74e87f-ef37-4db7-bae2-3c191f0ad433"
      },
      "execution_count": null,
      "outputs": [
        {
          "output_type": "execute_result",
          "data": {
            "text/plain": [
              "                0           1\n",
              "count  150.000000  150.000000\n",
              "mean     0.459438    0.479485\n",
              "std      0.292803    0.186927\n",
              "min      0.000000    0.000000\n",
              "25%      0.099010    0.356585\n",
              "50%      0.538261    0.467138\n",
              "75%      0.680162    0.604384\n",
              "max      1.000000    1.000000"
            ],
            "text/html": [
              "\n",
              "  <div id=\"df-f830f2a4-08cb-47e9-ae80-d3aa00ee1b74\">\n",
              "    <div class=\"colab-df-container\">\n",
              "      <div>\n",
              "<style scoped>\n",
              "    .dataframe tbody tr th:only-of-type {\n",
              "        vertical-align: middle;\n",
              "    }\n",
              "\n",
              "    .dataframe tbody tr th {\n",
              "        vertical-align: top;\n",
              "    }\n",
              "\n",
              "    .dataframe thead th {\n",
              "        text-align: right;\n",
              "    }\n",
              "</style>\n",
              "<table border=\"1\" class=\"dataframe\">\n",
              "  <thead>\n",
              "    <tr style=\"text-align: right;\">\n",
              "      <th></th>\n",
              "      <th>0</th>\n",
              "      <th>1</th>\n",
              "    </tr>\n",
              "  </thead>\n",
              "  <tbody>\n",
              "    <tr>\n",
              "      <th>count</th>\n",
              "      <td>150.000000</td>\n",
              "      <td>150.000000</td>\n",
              "    </tr>\n",
              "    <tr>\n",
              "      <th>mean</th>\n",
              "      <td>0.459438</td>\n",
              "      <td>0.479485</td>\n",
              "    </tr>\n",
              "    <tr>\n",
              "      <th>std</th>\n",
              "      <td>0.292803</td>\n",
              "      <td>0.186927</td>\n",
              "    </tr>\n",
              "    <tr>\n",
              "      <th>min</th>\n",
              "      <td>0.000000</td>\n",
              "      <td>0.000000</td>\n",
              "    </tr>\n",
              "    <tr>\n",
              "      <th>25%</th>\n",
              "      <td>0.099010</td>\n",
              "      <td>0.356585</td>\n",
              "    </tr>\n",
              "    <tr>\n",
              "      <th>50%</th>\n",
              "      <td>0.538261</td>\n",
              "      <td>0.467138</td>\n",
              "    </tr>\n",
              "    <tr>\n",
              "      <th>75%</th>\n",
              "      <td>0.680162</td>\n",
              "      <td>0.604384</td>\n",
              "    </tr>\n",
              "    <tr>\n",
              "      <th>max</th>\n",
              "      <td>1.000000</td>\n",
              "      <td>1.000000</td>\n",
              "    </tr>\n",
              "  </tbody>\n",
              "</table>\n",
              "</div>\n",
              "      <button class=\"colab-df-convert\" onclick=\"convertToInteractive('df-f830f2a4-08cb-47e9-ae80-d3aa00ee1b74')\"\n",
              "              title=\"Convert this dataframe to an interactive table.\"\n",
              "              style=\"display:none;\">\n",
              "        \n",
              "  <svg xmlns=\"http://www.w3.org/2000/svg\" height=\"24px\"viewBox=\"0 0 24 24\"\n",
              "       width=\"24px\">\n",
              "    <path d=\"M0 0h24v24H0V0z\" fill=\"none\"/>\n",
              "    <path d=\"M18.56 5.44l.94 2.06.94-2.06 2.06-.94-2.06-.94-.94-2.06-.94 2.06-2.06.94zm-11 1L8.5 8.5l.94-2.06 2.06-.94-2.06-.94L8.5 2.5l-.94 2.06-2.06.94zm10 10l.94 2.06.94-2.06 2.06-.94-2.06-.94-.94-2.06-.94 2.06-2.06.94z\"/><path d=\"M17.41 7.96l-1.37-1.37c-.4-.4-.92-.59-1.43-.59-.52 0-1.04.2-1.43.59L10.3 9.45l-7.72 7.72c-.78.78-.78 2.05 0 2.83L4 21.41c.39.39.9.59 1.41.59.51 0 1.02-.2 1.41-.59l7.78-7.78 2.81-2.81c.8-.78.8-2.07 0-2.86zM5.41 20L4 18.59l7.72-7.72 1.47 1.35L5.41 20z\"/>\n",
              "  </svg>\n",
              "      </button>\n",
              "      \n",
              "  <style>\n",
              "    .colab-df-container {\n",
              "      display:flex;\n",
              "      flex-wrap:wrap;\n",
              "      gap: 12px;\n",
              "    }\n",
              "\n",
              "    .colab-df-convert {\n",
              "      background-color: #E8F0FE;\n",
              "      border: none;\n",
              "      border-radius: 50%;\n",
              "      cursor: pointer;\n",
              "      display: none;\n",
              "      fill: #1967D2;\n",
              "      height: 32px;\n",
              "      padding: 0 0 0 0;\n",
              "      width: 32px;\n",
              "    }\n",
              "\n",
              "    .colab-df-convert:hover {\n",
              "      background-color: #E2EBFA;\n",
              "      box-shadow: 0px 1px 2px rgba(60, 64, 67, 0.3), 0px 1px 3px 1px rgba(60, 64, 67, 0.15);\n",
              "      fill: #174EA6;\n",
              "    }\n",
              "\n",
              "    [theme=dark] .colab-df-convert {\n",
              "      background-color: #3B4455;\n",
              "      fill: #D2E3FC;\n",
              "    }\n",
              "\n",
              "    [theme=dark] .colab-df-convert:hover {\n",
              "      background-color: #434B5C;\n",
              "      box-shadow: 0px 1px 3px 1px rgba(0, 0, 0, 0.15);\n",
              "      filter: drop-shadow(0px 1px 2px rgba(0, 0, 0, 0.3));\n",
              "      fill: #FFFFFF;\n",
              "    }\n",
              "  </style>\n",
              "\n",
              "      <script>\n",
              "        const buttonEl =\n",
              "          document.querySelector('#df-f830f2a4-08cb-47e9-ae80-d3aa00ee1b74 button.colab-df-convert');\n",
              "        buttonEl.style.display =\n",
              "          google.colab.kernel.accessAllowed ? 'block' : 'none';\n",
              "\n",
              "        async function convertToInteractive(key) {\n",
              "          const element = document.querySelector('#df-f830f2a4-08cb-47e9-ae80-d3aa00ee1b74');\n",
              "          const dataTable =\n",
              "            await google.colab.kernel.invokeFunction('convertToInteractive',\n",
              "                                                     [key], {});\n",
              "          if (!dataTable) return;\n",
              "\n",
              "          const docLinkHtml = 'Like what you see? Visit the ' +\n",
              "            '<a target=\"_blank\" href=https://colab.research.google.com/notebooks/data_table.ipynb>data table notebook</a>'\n",
              "            + ' to learn more about interactive tables.';\n",
              "          element.innerHTML = '';\n",
              "          dataTable['output_type'] = 'display_data';\n",
              "          await google.colab.output.renderOutput(dataTable, element);\n",
              "          const docLink = document.createElement('div');\n",
              "          docLink.innerHTML = docLinkHtml;\n",
              "          element.appendChild(docLink);\n",
              "        }\n",
              "      </script>\n",
              "    </div>\n",
              "  </div>\n",
              "  "
            ]
          },
          "metadata": {},
          "execution_count": 2511
        }
      ]
    },
    {
      "cell_type": "code",
      "source": [
        "x=Dataset.values"
      ],
      "metadata": {
        "id": "0w4mIpzMMGUB"
      },
      "execution_count": null,
      "outputs": []
    },
    {
      "cell_type": "code",
      "source": [
        "XO=Dataset.values\n",
        "Xl=OrginalDataset.values"
      ],
      "metadata": {
        "id": "8FRrBdLPMxn2"
      },
      "execution_count": null,
      "outputs": []
    },
    {
      "cell_type": "markdown",
      "source": [
        "**Dataset befor and after normalization**\n",
        "\n"
      ],
      "metadata": {
        "id": "TP_2c8OMpdhb"
      }
    },
    {
      "cell_type": "code",
      "source": [
        "# Plot the row data point for 2D befor normalization \n",
        "import seaborn as sns\n",
        "sns.scatterplot(Xl[:,0], Xl[:, 1], hue=Xl[:,-1] , color='y')\n",
        "plt.xlabel('X')\n",
        "plt.ylabel('Y')\n",
        "plt.show()"
      ],
      "metadata": {
        "colab": {
          "base_uri": "https://localhost:8080/",
          "height": 337
        },
        "id": "EFFylC1dpf6y",
        "outputId": "88ce7305-a829-4321-8fa7-44562b7be3f1"
      },
      "execution_count": null,
      "outputs": [
        {
          "output_type": "stream",
          "name": "stderr",
          "text": [
            "/usr/local/lib/python3.8/dist-packages/seaborn/_decorators.py:36: FutureWarning: Pass the following variables as keyword args: x, y. From version 0.12, the only valid positional argument will be `data`, and passing other arguments without an explicit keyword will result in an error or misinterpretation.\n",
            "  warnings.warn(\n"
          ]
        },
        {
          "output_type": "display_data",
          "data": {
            "text/plain": [
              "<Figure size 432x288 with 1 Axes>"
            ],
            "image/png": "[encoded data removed]"
          },
          "metadata": {
            "needs_background": "light"
          }
        }
      ]
    },
    {
      "cell_type": "code",
      "source": [
        "# Plot the row data point for 2D after normalization \n",
        "import seaborn as sns\n",
        "sns.scatterplot(XO[:,0], XO[:, 1], hue=Xl[:,-1] , color='y')\n",
        "plt.xlabel('X')\n",
        "plt.ylabel('Y')\n",
        "plt.show()"
      ],
      "metadata": {
        "colab": {
          "base_uri": "https://localhost:8080/",
          "height": 334
        },
        "id": "dLdVAKBwUzJp",
        "outputId": "22ab20b8-b8b0-4780-fa3a-e46bb1d22621"
      },
      "execution_count": null,
      "outputs": [
        {
          "output_type": "stream",
          "name": "stderr",
          "text": [
            "/usr/local/lib/python3.8/dist-packages/seaborn/_decorators.py:36: FutureWarning: Pass the following variables as keyword args: x, y. From version 0.12, the only valid positional argument will be `data`, and passing other arguments without an explicit keyword will result in an error or misinterpretation.\n",
            "  warnings.warn(\n"
          ]
        },
        {
          "output_type": "display_data",
          "data": {
            "text/plain": [
              "<Figure size 432x288 with 1 Axes>"
            ],
            "image/png": "[encoded data removed]"
          },
          "metadata": {
            "needs_background": "light"
          }
        }
      ]
    },
    {
      "cell_type": "markdown",
      "source": [
        "# New Section"
      ],
      "metadata": {
        "id": "cAsq2POqVbil"
      }
    },
    {
      "cell_type": "markdown",
      "source": [
        "\n",
        "* Define the cluster center using Euclidean distance and initialize values random selected from Dataset."
      ],
      "metadata": {
        "id": "j0Skdu8cudLg"
      }
    },
    {
      "cell_type": "code",
      "source": [
        "def InitializeClusterCenters(data, k):\n",
        "    return data.sample(n=k).values"
      ],
      "metadata": {
        "id": "F06BSd59vrMI"
      },
      "execution_count": null,
      "outputs": []
    },
    {
      "cell_type": "code",
      "source": [
        "def Euclidean_distance(Xc1, X1, Xc2, X2):\n",
        "  return np.sqrt((Xc1-X1)**2 + (Xc2-X2)**2)\n",
        "\n"
      ],
      "metadata": {
        "id": "Q0A9TWocZ_pL"
      },
      "execution_count": null,
      "outputs": []
    },
    {
      "cell_type": "markdown",
      "source": [
        "*Function to generate new cluster center*"
      ],
      "metadata": {
        "id": "KQwfrKQB63g2"
      }
    },
    {
      "cell_type": "code",
      "source": [
        "def NewClusterCenter(X, U):\n",
        "  return pd.DataFrame(X).groupby(by=U).mean().values"
      ],
      "metadata": {
        "id": "EtBltk34aG8E"
      },
      "execution_count": null,
      "outputs": []
    },
    {
      "cell_type": "markdown",
      "source": [
        "* K means function take the data points (dataset) and number of cluster center (K), and return the list of cluster centers as well as the membership list, where each item in the membership list belong to cluster i corresponds to a datapoint in the dataset. "
      ],
      "metadata": {
        "id": "COuuv00e67-1"
      }
    },
    {
      "cell_type": "code",
      "source": [
        "def kmeans(dataset, K ): \n",
        "      X=dataset.values \n",
        "      MemberShip = np.zeros(X.shape[0])\n",
        "      ClusterCenters = InitializeClusterCenters(dataset,K)\n",
        "      while True:\n",
        "       \n",
        "          for i, datapoint in enumerate(X):\n",
        "              MinDesteance = float(X.max())\n",
        "              # for each datapoint calculate euclidean distance of the datapoint from all Cluster center \n",
        "              for Xindex, centre in enumerate(ClusterCenters):\n",
        "                  dest=Euclidean_distance(centre[0],datapoint[0],centre[1],datapoint[1] )\n",
        "                  if MinDesteance > dest:\n",
        "                    MinDesteance = dest\n",
        "                    MemberShip[i] = Xindex # for each datapoint we save the same index in membership array and the value ofclustercenter\n",
        "          \n",
        "          NewCentre = NewClusterCenter(X,MemberShip)\n",
        "          if np.count_nonzero(ClusterCenters-NewCentre) == 0: \n",
        "            break\n",
        "          else:\n",
        "            ClusterCenters = NewCentre\n",
        "\n",
        "      return ClusterCenters, MemberShip"
      ],
      "metadata": {
        "id": "sXjvC1RV52aS"
      },
      "execution_count": null,
      "outputs": []
    },
    {
      "cell_type": "markdown",
      "source": [
        "Cost function use is within-cluster sum of squares (WCSS) : is defined as the sum of the squared Euclidean distances between each data point and the mean of its cluster devided by number of datapoints."
      ],
      "metadata": {
        "id": "fC_jyxC4aPCL"
      }
    },
    {
      "cell_type": "code",
      "source": [
        "def CostFunction(X, ClusterCenters, MemberShip):\n",
        "  CostSum = 0\n",
        "  X=X.values\n",
        "  for i, datapoint in enumerate(X):\n",
        "      CostFunction=Euclidean_distance(ClusterCenters[int(MemberShip[i]), 0], datapoint[0],ClusterCenters[int(MemberShip[i]), 1],datapoint[1] )\n",
        "      CostSum += CostFunction\n",
        "  CostSum/=len(X[: :1])\n",
        "  return CostSum"
      ],
      "metadata": {
        "id": "MUdw_s2doZ1O"
      },
      "execution_count": null,
      "outputs": []
    },
    {
      "cell_type": "markdown",
      "source": [
        "To found the best number of clusters : \n",
        "\n",
        "\n",
        "1. Determine the maximum number of iterations, K, and begin from 1 to K.\n",
        "2. If you need to stop early, set a value for epsilon; otherwise,  the loop will complete all iterations.\n",
        "3. Don't change any other values.\n",
        "4. When the difference between two sequences is less than or equal to epsilon, the loop will stop.\n",
        "\n"
      ],
      "metadata": {
        "id": "iiyXwPe19AUr"
      }
    },
    {
      "cell_type": "code",
      "source": [
        "AllCosts = []\n",
        "MaxIteration=10\n",
        "epsilon=0.001\n",
        "Iteration=1\n",
        "for k in range(1,MaxIteration):\n",
        "    FinalClusterCenter, MemberShips = kmeans(Dataset,k)\n",
        "    CostSum = CostFunction(Dataset, FinalClusterCenter, MemberShips)\n",
        "    AllCosts.append(CostSum)\n",
        "    Iteration+=1\n",
        "    if(k>=2 and epsilon!=0):\n",
        "     Convearge=AllCosts[k-2]-AllCosts[k-1]\n",
        "     if(Convearge<=epsilon):\n",
        "      break"
      ],
      "metadata": {
        "id": "J43d2yE1vQIP"
      },
      "execution_count": null,
      "outputs": []
    },
    {
      "cell_type": "code",
      "source": [
        "sns.lineplot(x=range(1,Iteration), y=AllCosts, marker='o')\n",
        "plt.grid()\n",
        "plt.xlabel('K')\n",
        "plt.ylabel('WCSS')\n",
        "plt.show()"
      ],
      "metadata": {
        "colab": {
          "base_uri": "https://localhost:8080/",
          "height": 279
        },
        "id": "RHxyzuop7To1",
        "outputId": "efcdac59-e035-46e0-db17-8ce92369678b"
      },
      "execution_count": null,
      "outputs": [
        {
          "output_type": "display_data",
          "data": {
            "text/plain": [
              "<Figure size 432x288 with 1 Axes>"
            ],
            "image/png": "[encoded data removed]"
          },
          "metadata": {
            "needs_background": "light"
          }
        }
      ]
    },
    {
      "cell_type": "markdown",
      "source": [
        "* Call K-means Function with the best K, from above figure."
      ],
      "metadata": {
        "id": "NdWOxZDmxWaI"
      }
    },
    {
      "cell_type": "code",
      "source": [
        "FinalClusterCenter, MemberShips = kmeans(Dataset,K=2)"
      ],
      "metadata": {
        "id": "RBTGsbGcjHk-"
      },
      "execution_count": null,
      "outputs": []
    },
    {
      "cell_type": "code",
      "source": [
        "FinalClusterCenter"
      ],
      "metadata": {
        "colab": {
          "base_uri": "https://localhost:8080/"
        },
        "id": "UfAH8zb4Tgsg",
        "outputId": "9a200254-c7a1-4876-cce2-d6005540704a"
      },
      "execution_count": null,
      "outputs": [
        {
          "output_type": "execute_result",
          "data": {
            "text/plain": [
              "array([[0.08324346, 0.55184318],\n",
              "       [0.64753473, 0.44330607]])"
            ]
          },
          "metadata": {},
          "execution_count": 2524
        }
      ]
    },
    {
      "cell_type": "code",
      "source": [
        "X=Dataset.values"
      ],
      "metadata": {
        "id": "HRYEnCYW0nPy"
      },
      "execution_count": null,
      "outputs": []
    },
    {
      "cell_type": "code",
      "source": [
        "sns.scatterplot(X[:,0], X[:, 1], hue=MemberShips)\n",
        "sns.scatterplot(FinalClusterCenter[:,0], FinalClusterCenter[:, 1], s=100, color='y')\n",
        "plt.xlabel('X1')\n",
        "plt.ylabel('X2')\n",
        "plt.show()"
      ],
      "metadata": {
        "colab": {
          "base_uri": "https://localhost:8080/",
          "height": 368
        },
        "id": "k5HSy2PSnPB-",
        "outputId": "b421610a-598e-494a-ebe6-e3468f8e72a7"
      },
      "execution_count": null,
      "outputs": [
        {
          "output_type": "stream",
          "name": "stderr",
          "text": [
            "/usr/local/lib/python3.8/dist-packages/seaborn/_decorators.py:36: FutureWarning: Pass the following variables as keyword args: x, y. From version 0.12, the only valid positional argument will be `data`, and passing other arguments without an explicit keyword will result in an error or misinterpretation.\n",
            "  warnings.warn(\n",
            "/usr/local/lib/python3.8/dist-packages/seaborn/_decorators.py:36: FutureWarning: Pass the following variables as keyword args: x, y. From version 0.12, the only valid positional argument will be `data`, and passing other arguments without an explicit keyword will result in an error or misinterpretation.\n",
            "  warnings.warn(\n"
          ]
        },
        {
          "output_type": "display_data",
          "data": {
            "text/plain": [
              "<Figure size 432x288 with 1 Axes>"
            ],
            "image/png": "[encoded data removed]"
          },
          "metadata": {
            "needs_background": "light"
          }
        }
      ]
    }
  ]
}